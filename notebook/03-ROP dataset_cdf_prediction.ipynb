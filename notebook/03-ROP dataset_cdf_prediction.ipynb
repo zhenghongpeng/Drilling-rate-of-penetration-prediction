{
 "cells": [
  {
   "cell_type": "markdown",
   "metadata": {},
   "source": [
    "## Connect to CDF"
   ]
  },
  {
   "cell_type": "code",
   "execution_count": 56,
   "metadata": {
    "tags": []
   },
   "outputs": [],
   "source": [
    "import os\n",
    "import sys\n",
    "import pandas as pd\n",
    "import numpy as np\n",
    "from cognite.client.data_classes import TimeSeries, Sequence\n",
    "import matplotlib.pyplot as plt\n",
    "import seaborn as sns \n",
    "%matplotlib inline"
   ]
  },
  {
   "cell_type": "code",
   "execution_count": 2,
   "metadata": {
    "tags": []
   },
   "outputs": [
    {
     "name": "stdout",
     "output_type": "stream",
     "text": [
      "/Users/kevin.peng/code/cognite/Drilling-rate-of-penetration-prediction/utils\n"
     ]
    }
   ],
   "source": [
    "module_path = os.path.abspath(os.path.join(\"../utils\"))\n",
    "print(module_path)\n",
    "if module_path not in sys.path:\n",
    "    sys.path.append(module_path)"
   ]
  },
  {
   "cell_type": "code",
   "execution_count": 3,
   "metadata": {
    "tags": []
   },
   "outputs": [
    {
     "name": "stdout",
     "output_type": "stream",
     "text": [
      "CLIENT_SECRET\n",
      "b2kwbWhqI09ZeiFVeURzWQ==\n"
     ]
    }
   ],
   "source": [
    "from pathlib import Path\n",
    "from dotenv import load_dotenv\n",
    "dotenv_path = Path(\"../utils/.env\")\n",
    "load_dotenv(dotenv_path=dotenv_path)\n",
    "CLIENT_SECRET = os.getenv(\"CLIENT_SECRET\")  # store secret in .env file\n",
    "print(\"CLIENT_SECRET\")\n",
    "print(CLIENT_SECRET)"
   ]
  },
  {
   "cell_type": "code",
   "execution_count": 4,
   "metadata": {
    "tags": []
   },
   "outputs": [
    {
     "name": "stdout",
     "output_type": "stream",
     "text": [
      "CLIENT_SECRET\n",
      "b2kwbWhqI09ZeiFVeURzWQ==\n"
     ]
    }
   ],
   "source": [
    "import auth as cauth\n",
    "c = cauth.create_cognite_client('client-secret')"
   ]
  },
  {
   "cell_type": "code",
   "execution_count": 5,
   "metadata": {
    "tags": []
   },
   "outputs": [
    {
     "name": "stderr",
     "output_type": "stream",
     "text": [
      "/var/folders/73/r__fy3qd5fqf46_jrr1pmhm80000gn/T/ipykernel_32901/2034473358.py:1: UserWarning: It seems you are trying to reach API endpoint `/login/status` which is only valid when authenticating using an API key - without an API key. Try `client.iam.token.inspect` instead\n",
      "  c.login.status()\n"
     ]
    },
    {
     "data": {
      "text/plain": [
       "{\n",
       "    \"user\": \"31c71712-7dad-45dd-936b-871bd198c63c\",\n",
       "    \"project\": \"\",\n",
       "    \"project_id\": -1,\n",
       "    \"logged_in\": true\n",
       "}"
      ]
     },
     "execution_count": 5,
     "metadata": {},
     "output_type": "execute_result"
    }
   ],
   "source": [
    "c.login.status()"
   ]
  },
  {
   "cell_type": "markdown",
   "metadata": {},
   "source": [
    "## Create asset hierarchy"
   ]
  },
  {
   "cell_type": "code",
   "execution_count": 6,
   "metadata": {
    "tags": []
   },
   "outputs": [
    {
     "data": {
      "text/html": [
       "<div>\n",
       "<style scoped>\n",
       "    .dataframe tbody tr th:only-of-type {\n",
       "        vertical-align: middle;\n",
       "    }\n",
       "\n",
       "    .dataframe tbody tr th {\n",
       "        vertical-align: top;\n",
       "    }\n",
       "\n",
       "    .dataframe thead th {\n",
       "        text-align: right;\n",
       "    }\n",
       "</style>\n",
       "<table border=\"1\" class=\"dataframe\">\n",
       "  <thead>\n",
       "    <tr style=\"text-align: right;\">\n",
       "      <th></th>\n",
       "      <th>value</th>\n",
       "    </tr>\n",
       "  </thead>\n",
       "  <tbody>\n",
       "    <tr>\n",
       "      <th>external_id</th>\n",
       "      <td>rop_wells</td>\n",
       "    </tr>\n",
       "    <tr>\n",
       "      <th>name</th>\n",
       "      <td>rop_wells</td>\n",
       "    </tr>\n",
       "    <tr>\n",
       "      <th>write_protected</th>\n",
       "      <td>False</td>\n",
       "    </tr>\n",
       "    <tr>\n",
       "      <th>id</th>\n",
       "      <td>7121227008062499</td>\n",
       "    </tr>\n",
       "    <tr>\n",
       "      <th>created_time</th>\n",
       "      <td>1676499933747</td>\n",
       "    </tr>\n",
       "    <tr>\n",
       "      <th>last_updated_time</th>\n",
       "      <td>1676499933747</td>\n",
       "    </tr>\n",
       "  </tbody>\n",
       "</table>\n",
       "</div>"
      ],
      "text/plain": [
       "<cognite.client.data_classes.data_sets.DataSet at 0x11fc34be0>"
      ]
     },
     "execution_count": 6,
     "metadata": {},
     "output_type": "execute_result"
    }
   ],
   "source": [
    "c.data_sets.retrieve(external_id=\"rop_wells\")"
   ]
  },
  {
   "cell_type": "code",
   "execution_count": 7,
   "metadata": {
    "tags": []
   },
   "outputs": [
    {
     "data": {
      "text/plain": [
       "7121227008062499"
      ]
     },
     "execution_count": 7,
     "metadata": {},
     "output_type": "execute_result"
    }
   ],
   "source": [
    "dataset_id =c.data_sets.retrieve(external_id=\"rop_wells\").id\n",
    "dataset_id"
   ]
  },
  {
   "cell_type": "code",
   "execution_count": 8,
   "metadata": {
    "tags": []
   },
   "outputs": [
    {
     "data": {
      "text/html": [
       "<div>\n",
       "<style scoped>\n",
       "    .dataframe tbody tr th:only-of-type {\n",
       "        vertical-align: middle;\n",
       "    }\n",
       "\n",
       "    .dataframe tbody tr th {\n",
       "        vertical-align: top;\n",
       "    }\n",
       "\n",
       "    .dataframe thead th {\n",
       "        text-align: right;\n",
       "    }\n",
       "</style>\n",
       "<table border=\"1\" class=\"dataframe\">\n",
       "  <thead>\n",
       "    <tr style=\"text-align: right;\">\n",
       "      <th></th>\n",
       "      <th>value</th>\n",
       "    </tr>\n",
       "  </thead>\n",
       "  <tbody>\n",
       "    <tr>\n",
       "      <th>external_id</th>\n",
       "      <td>rop_sensors_model</td>\n",
       "    </tr>\n",
       "    <tr>\n",
       "      <th>name</th>\n",
       "      <td>rop_sensors_model</td>\n",
       "    </tr>\n",
       "    <tr>\n",
       "      <th>data_set_id</th>\n",
       "      <td>7121227008062499</td>\n",
       "    </tr>\n",
       "    <tr>\n",
       "      <th>id</th>\n",
       "      <td>1241809692811950</td>\n",
       "    </tr>\n",
       "    <tr>\n",
       "      <th>created_time</th>\n",
       "      <td>1676910778737</td>\n",
       "    </tr>\n",
       "    <tr>\n",
       "      <th>last_updated_time</th>\n",
       "      <td>1676910778737</td>\n",
       "    </tr>\n",
       "    <tr>\n",
       "      <th>root_id</th>\n",
       "      <td>1241809692811950</td>\n",
       "    </tr>\n",
       "  </tbody>\n",
       "</table>\n",
       "</div>"
      ],
      "text/plain": [
       "<cognite.client.data_classes.assets.Asset at 0x11fc25ee0>"
      ]
     },
     "execution_count": 8,
     "metadata": {},
     "output_type": "execute_result"
    }
   ],
   "source": [
    "from cognite.client.data_classes import Asset\n",
    "\n",
    "# Create Root Asset\n",
    "root_asset = c.assets.create(Asset(name='rop_sensors_model', external_id='rop_sensors_model',data_set_id=dataset_id))\n",
    "root_asset"
   ]
  },
  {
   "cell_type": "code",
   "execution_count": 9,
   "metadata": {
    "tags": []
   },
   "outputs": [
    {
     "data": {
      "text/html": [
       "<div>\n",
       "<style scoped>\n",
       "    .dataframe tbody tr th:only-of-type {\n",
       "        vertical-align: middle;\n",
       "    }\n",
       "\n",
       "    .dataframe tbody tr th {\n",
       "        vertical-align: top;\n",
       "    }\n",
       "\n",
       "    .dataframe thead th {\n",
       "        text-align: right;\n",
       "    }\n",
       "</style>\n",
       "<table border=\"1\" class=\"dataframe\">\n",
       "  <thead>\n",
       "    <tr style=\"text-align: right;\">\n",
       "      <th></th>\n",
       "      <th>value</th>\n",
       "    </tr>\n",
       "  </thead>\n",
       "  <tbody>\n",
       "    <tr>\n",
       "      <th>external_id</th>\n",
       "      <td>rop_sensors_model</td>\n",
       "    </tr>\n",
       "    <tr>\n",
       "      <th>name</th>\n",
       "      <td>rop_sensors_model</td>\n",
       "    </tr>\n",
       "    <tr>\n",
       "      <th>data_set_id</th>\n",
       "      <td>7121227008062499</td>\n",
       "    </tr>\n",
       "    <tr>\n",
       "      <th>id</th>\n",
       "      <td>1241809692811950</td>\n",
       "    </tr>\n",
       "    <tr>\n",
       "      <th>created_time</th>\n",
       "      <td>1676910778737</td>\n",
       "    </tr>\n",
       "    <tr>\n",
       "      <th>last_updated_time</th>\n",
       "      <td>1676910778737</td>\n",
       "    </tr>\n",
       "    <tr>\n",
       "      <th>root_id</th>\n",
       "      <td>1241809692811950</td>\n",
       "    </tr>\n",
       "  </tbody>\n",
       "</table>\n",
       "</div>"
      ],
      "text/plain": [
       "<cognite.client.data_classes.assets.Asset at 0x11fc34190>"
      ]
     },
     "execution_count": 9,
     "metadata": {},
     "output_type": "execute_result"
    }
   ],
   "source": [
    "root_asset_obj = c.assets.retrieve(id =1241809692811950)\n",
    "root_asset_obj"
   ]
  },
  {
   "cell_type": "code",
   "execution_count": 19,
   "metadata": {
    "tags": []
   },
   "outputs": [],
   "source": [
    "function_external_id = \"well8532_function-master\"\n",
    "function_obj = c.functions.retrieve(external_id=\"well8532_function-master\")"
   ]
  },
  {
   "cell_type": "code",
   "execution_count": 20,
   "metadata": {
    "tags": []
   },
   "outputs": [
    {
     "data": {
      "text/html": [
       "<div>\n",
       "<style scoped>\n",
       "    .dataframe tbody tr th:only-of-type {\n",
       "        vertical-align: middle;\n",
       "    }\n",
       "\n",
       "    .dataframe tbody tr th {\n",
       "        vertical-align: top;\n",
       "    }\n",
       "\n",
       "    .dataframe thead th {\n",
       "        text-align: right;\n",
       "    }\n",
       "</style>\n",
       "<table border=\"1\" class=\"dataframe\">\n",
       "  <thead>\n",
       "    <tr style=\"text-align: right;\">\n",
       "      <th></th>\n",
       "      <th>value</th>\n",
       "    </tr>\n",
       "  </thead>\n",
       "  <tbody>\n",
       "    <tr>\n",
       "      <th>id</th>\n",
       "      <td>2573492331849606</td>\n",
       "    </tr>\n",
       "    <tr>\n",
       "      <th>start_time</th>\n",
       "      <td>1676912923469</td>\n",
       "    </tr>\n",
       "    <tr>\n",
       "      <th>end_time</th>\n",
       "      <td>1676912928119</td>\n",
       "    </tr>\n",
       "    <tr>\n",
       "      <th>status</th>\n",
       "      <td>Completed</td>\n",
       "    </tr>\n",
       "    <tr>\n",
       "      <th>function_id</th>\n",
       "      <td>7512202405982391</td>\n",
       "    </tr>\n",
       "  </tbody>\n",
       "</table>\n",
       "</div>"
      ],
      "text/plain": [
       "<cognite.client.data_classes.functions.FunctionCall at 0x12e328cd0>"
      ]
     },
     "execution_count": 20,
     "metadata": {},
     "output_type": "execute_result"
    }
   ],
   "source": [
    "data_for_func= {\"external_id\":\"well5832_sequence\", \"start\":0, \"end\":-1}\n",
    "\n",
    "call = function_obj.call(data=data_for_func)\n",
    "call"
   ]
  },
  {
   "cell_type": "code",
   "execution_count": 13,
   "metadata": {
    "tags": []
   },
   "outputs": [],
   "source": [
    "df = c.sequences.data.retrieve_dataframe(external_id=\"well5832_sequence\",start=0,end=-1)"
   ]
  },
  {
   "cell_type": "code",
   "execution_count": 18,
   "metadata": {
    "tags": []
   },
   "outputs": [],
   "source": [
    "model_df = df[['Depth(m)', 'ROP(1 m)']]"
   ]
  },
  {
   "cell_type": "code",
   "execution_count": 22,
   "metadata": {
    "tags": []
   },
   "outputs": [],
   "source": [
    "model_df = model_df.assign(prediction=call.get_response())"
   ]
  },
  {
   "cell_type": "code",
   "execution_count": 23,
   "metadata": {
    "tags": []
   },
   "outputs": [
    {
     "data": {
      "text/html": [
       "<div>\n",
       "<style scoped>\n",
       "    .dataframe tbody tr th:only-of-type {\n",
       "        vertical-align: middle;\n",
       "    }\n",
       "\n",
       "    .dataframe tbody tr th {\n",
       "        vertical-align: top;\n",
       "    }\n",
       "\n",
       "    .dataframe thead th {\n",
       "        text-align: right;\n",
       "    }\n",
       "</style>\n",
       "<table border=\"1\" class=\"dataframe\">\n",
       "  <thead>\n",
       "    <tr style=\"text-align: right;\">\n",
       "      <th></th>\n",
       "      <th>Depth(m)</th>\n",
       "      <th>ROP(1 m)</th>\n",
       "      <th>prediction</th>\n",
       "    </tr>\n",
       "  </thead>\n",
       "  <tbody>\n",
       "    <tr>\n",
       "      <th>1</th>\n",
       "      <td>25.96</td>\n",
       "      <td>17.31</td>\n",
       "      <td>65.9638</td>\n",
       "    </tr>\n",
       "    <tr>\n",
       "      <th>2</th>\n",
       "      <td>26.27</td>\n",
       "      <td>18.63</td>\n",
       "      <td>65.9638</td>\n",
       "    </tr>\n",
       "    <tr>\n",
       "      <th>3</th>\n",
       "      <td>26.59</td>\n",
       "      <td>5.66</td>\n",
       "      <td>116.6667</td>\n",
       "    </tr>\n",
       "    <tr>\n",
       "      <th>4</th>\n",
       "      <td>26.90</td>\n",
       "      <td>11.67</td>\n",
       "      <td>138.3851</td>\n",
       "    </tr>\n",
       "    <tr>\n",
       "      <th>5</th>\n",
       "      <td>27.24</td>\n",
       "      <td>120.20</td>\n",
       "      <td>129.5890</td>\n",
       "    </tr>\n",
       "    <tr>\n",
       "      <th>...</th>\n",
       "      <td>...</td>\n",
       "      <td>...</td>\n",
       "      <td>...</td>\n",
       "    </tr>\n",
       "    <tr>\n",
       "      <th>7307</th>\n",
       "      <td>2295.71</td>\n",
       "      <td>3.29</td>\n",
       "      <td>3.5837</td>\n",
       "    </tr>\n",
       "    <tr>\n",
       "      <th>7308</th>\n",
       "      <td>2296.01</td>\n",
       "      <td>4.12</td>\n",
       "      <td>3.9735</td>\n",
       "    </tr>\n",
       "    <tr>\n",
       "      <th>7309</th>\n",
       "      <td>2296.32</td>\n",
       "      <td>3.85</td>\n",
       "      <td>3.8493</td>\n",
       "    </tr>\n",
       "    <tr>\n",
       "      <th>7310</th>\n",
       "      <td>2296.63</td>\n",
       "      <td>4.49</td>\n",
       "      <td>4.2334</td>\n",
       "    </tr>\n",
       "    <tr>\n",
       "      <th>7311</th>\n",
       "      <td>2296.94</td>\n",
       "      <td>3.95</td>\n",
       "      <td>3.9619</td>\n",
       "    </tr>\n",
       "  </tbody>\n",
       "</table>\n",
       "<p>7311 rows × 3 columns</p>\n",
       "</div>"
      ],
      "text/plain": [
       "      Depth(m)  ROP(1 m)  prediction\n",
       "1        25.96     17.31     65.9638\n",
       "2        26.27     18.63     65.9638\n",
       "3        26.59      5.66    116.6667\n",
       "4        26.90     11.67    138.3851\n",
       "5        27.24    120.20    129.5890\n",
       "...        ...       ...         ...\n",
       "7307   2295.71      3.29      3.5837\n",
       "7308   2296.01      4.12      3.9735\n",
       "7309   2296.32      3.85      3.8493\n",
       "7310   2296.63      4.49      4.2334\n",
       "7311   2296.94      3.95      3.9619\n",
       "\n",
       "[7311 rows x 3 columns]"
      ]
     },
     "execution_count": 23,
     "metadata": {},
     "output_type": "execute_result"
    }
   ],
   "source": [
    "model_df"
   ]
  },
  {
   "cell_type": "code",
   "execution_count": 33,
   "metadata": {
    "tags": []
   },
   "outputs": [
    {
     "data": {
      "text/html": [
       "<div>\n",
       "<style scoped>\n",
       "    .dataframe tbody tr th:only-of-type {\n",
       "        vertical-align: middle;\n",
       "    }\n",
       "\n",
       "    .dataframe tbody tr th {\n",
       "        vertical-align: top;\n",
       "    }\n",
       "\n",
       "    .dataframe thead th {\n",
       "        text-align: right;\n",
       "    }\n",
       "</style>\n",
       "<table border=\"1\" class=\"dataframe\">\n",
       "  <thead>\n",
       "    <tr style=\"text-align: right;\">\n",
       "      <th></th>\n",
       "      <th>external_id</th>\n",
       "      <th>name</th>\n",
       "      <th>parent_id</th>\n",
       "      <th>data_set_id</th>\n",
       "      <th>metadata</th>\n",
       "      <th>id</th>\n",
       "      <th>created_time</th>\n",
       "      <th>last_updated_time</th>\n",
       "      <th>root_id</th>\n",
       "    </tr>\n",
       "  </thead>\n",
       "  <tbody>\n",
       "    <tr>\n",
       "      <th>0</th>\n",
       "      <td>Depth(m)_model_ext_id</td>\n",
       "      <td>Depth(m)</td>\n",
       "      <td>1241809692811950</td>\n",
       "      <td>7121227008062499</td>\n",
       "      <td>{}</td>\n",
       "      <td>4521984162286985</td>\n",
       "      <td>1676913589240</td>\n",
       "      <td>1676913589240</td>\n",
       "      <td>1241809692811950</td>\n",
       "    </tr>\n",
       "    <tr>\n",
       "      <th>1</th>\n",
       "      <td>ROP(1 m)_model_ext_id</td>\n",
       "      <td>ROP(1 m)</td>\n",
       "      <td>1241809692811950</td>\n",
       "      <td>7121227008062499</td>\n",
       "      <td>{}</td>\n",
       "      <td>7409357438442620</td>\n",
       "      <td>1676913589240</td>\n",
       "      <td>1676913589240</td>\n",
       "      <td>1241809692811950</td>\n",
       "    </tr>\n",
       "    <tr>\n",
       "      <th>2</th>\n",
       "      <td>prediction_model_ext_id</td>\n",
       "      <td>prediction</td>\n",
       "      <td>1241809692811950</td>\n",
       "      <td>7121227008062499</td>\n",
       "      <td>{}</td>\n",
       "      <td>5689768599383520</td>\n",
       "      <td>1676913589240</td>\n",
       "      <td>1676913589240</td>\n",
       "      <td>1241809692811950</td>\n",
       "    </tr>\n",
       "  </tbody>\n",
       "</table>\n",
       "</div>"
      ],
      "text/plain": [
       "AssetList([<cognite.client.data_classes.assets.Asset at 0x1525f8bb0>,\n",
       "           <cognite.client.data_classes.assets.Asset at 0x1525f8be0>,\n",
       "           <cognite.client.data_classes.assets.Asset at 0x1525f8cd0>])"
      ]
     },
     "execution_count": 33,
     "metadata": {},
     "output_type": "execute_result"
    }
   ],
   "source": [
    "# Create each sensor as a new asset\n",
    "store = []\n",
    "for model in model_df.columns:\n",
    "    asset=Asset(name=model, external_id =model+'_model_ext_id',data_set_id=dataset_id,parent_id=root_asset_obj.id)\n",
    "    store.append(asset)\n",
    "\n",
    "c.assets.create(store)"
   ]
  },
  {
   "cell_type": "code",
   "execution_count": 34,
   "metadata": {
    "tags": []
   },
   "outputs": [],
   "source": [
    "col_def = []\n",
    "for col in model_df.columns:\n",
    "    col_def.append({\"valueType\":\"DOUBLE\",\"externalId\":f\"{col}\",\"description\":f\"some description for asset {col}_model_ext_id\"})"
   ]
  },
  {
   "cell_type": "code",
   "execution_count": 35,
   "metadata": {
    "tags": []
   },
   "outputs": [
    {
     "data": {
      "text/plain": [
       "3"
      ]
     },
     "execution_count": 35,
     "metadata": {},
     "output_type": "execute_result"
    }
   ],
   "source": [
    "len(col_def)"
   ]
  },
  {
   "cell_type": "code",
   "execution_count": 36,
   "metadata": {
    "tags": []
   },
   "outputs": [],
   "source": [
    "seq = c.sequences.create(Sequence(external_id=\"well5832_sequence_model\",name=\"well5832_sequence_model\", columns=col_def,data_set_id=dataset_id ))"
   ]
  },
  {
   "cell_type": "code",
   "execution_count": 37,
   "metadata": {
    "tags": []
   },
   "outputs": [
    {
     "data": {
      "text/html": [
       "<div>\n",
       "<style scoped>\n",
       "    .dataframe tbody tr th:only-of-type {\n",
       "        vertical-align: middle;\n",
       "    }\n",
       "\n",
       "    .dataframe tbody tr th {\n",
       "        vertical-align: top;\n",
       "    }\n",
       "\n",
       "    .dataframe thead th {\n",
       "        text-align: right;\n",
       "    }\n",
       "</style>\n",
       "<table border=\"1\" class=\"dataframe\">\n",
       "  <thead>\n",
       "    <tr style=\"text-align: right;\">\n",
       "      <th></th>\n",
       "      <th>value</th>\n",
       "    </tr>\n",
       "  </thead>\n",
       "  <tbody>\n",
       "    <tr>\n",
       "      <th>id</th>\n",
       "      <td>1313227858623252</td>\n",
       "    </tr>\n",
       "    <tr>\n",
       "      <th>name</th>\n",
       "      <td>well5832_sequence_model</td>\n",
       "    </tr>\n",
       "    <tr>\n",
       "      <th>external_id</th>\n",
       "      <td>well5832_sequence_model</td>\n",
       "    </tr>\n",
       "    <tr>\n",
       "      <th>columns</th>\n",
       "      <td>[{'externalId': 'Depth(m)', 'description': 'so...</td>\n",
       "    </tr>\n",
       "    <tr>\n",
       "      <th>created_time</th>\n",
       "      <td>1676913911960</td>\n",
       "    </tr>\n",
       "    <tr>\n",
       "      <th>last_updated_time</th>\n",
       "      <td>1676913911960</td>\n",
       "    </tr>\n",
       "    <tr>\n",
       "      <th>data_set_id</th>\n",
       "      <td>7121227008062499</td>\n",
       "    </tr>\n",
       "  </tbody>\n",
       "</table>\n",
       "</div>"
      ],
      "text/plain": [
       "<cognite.client.data_classes.sequences.Sequence at 0x152551fa0>"
      ]
     },
     "execution_count": 37,
     "metadata": {},
     "output_type": "execute_result"
    }
   ],
   "source": [
    "seq"
   ]
  },
  {
   "cell_type": "markdown",
   "metadata": {},
   "source": [
    "## insert datapoints"
   ]
  },
  {
   "cell_type": "code",
   "execution_count": 38,
   "metadata": {
    "tags": []
   },
   "outputs": [
    {
     "name": "stdout",
     "output_type": "stream",
     "text": [
      "(7311, 3)\n"
     ]
    },
    {
     "data": {
      "text/html": [
       "<div>\n",
       "<style scoped>\n",
       "    .dataframe tbody tr th:only-of-type {\n",
       "        vertical-align: middle;\n",
       "    }\n",
       "\n",
       "    .dataframe tbody tr th {\n",
       "        vertical-align: top;\n",
       "    }\n",
       "\n",
       "    .dataframe thead th {\n",
       "        text-align: right;\n",
       "    }\n",
       "</style>\n",
       "<table border=\"1\" class=\"dataframe\">\n",
       "  <thead>\n",
       "    <tr style=\"text-align: right;\">\n",
       "      <th></th>\n",
       "      <th>Depth(m)</th>\n",
       "      <th>ROP(1 m)</th>\n",
       "      <th>prediction</th>\n",
       "    </tr>\n",
       "  </thead>\n",
       "  <tbody>\n",
       "    <tr>\n",
       "      <th>1</th>\n",
       "      <td>25.96</td>\n",
       "      <td>17.31</td>\n",
       "      <td>65.9638</td>\n",
       "    </tr>\n",
       "    <tr>\n",
       "      <th>2</th>\n",
       "      <td>26.27</td>\n",
       "      <td>18.63</td>\n",
       "      <td>65.9638</td>\n",
       "    </tr>\n",
       "    <tr>\n",
       "      <th>3</th>\n",
       "      <td>26.59</td>\n",
       "      <td>5.66</td>\n",
       "      <td>116.6667</td>\n",
       "    </tr>\n",
       "    <tr>\n",
       "      <th>4</th>\n",
       "      <td>26.90</td>\n",
       "      <td>11.67</td>\n",
       "      <td>138.3851</td>\n",
       "    </tr>\n",
       "    <tr>\n",
       "      <th>5</th>\n",
       "      <td>27.24</td>\n",
       "      <td>120.20</td>\n",
       "      <td>129.5890</td>\n",
       "    </tr>\n",
       "  </tbody>\n",
       "</table>\n",
       "</div>"
      ],
      "text/plain": [
       "   Depth(m)  ROP(1 m)  prediction\n",
       "1     25.96     17.31     65.9638\n",
       "2     26.27     18.63     65.9638\n",
       "3     26.59      5.66    116.6667\n",
       "4     26.90     11.67    138.3851\n",
       "5     27.24    120.20    129.5890"
      ]
     },
     "execution_count": 38,
     "metadata": {},
     "output_type": "execute_result"
    }
   ],
   "source": [
    "import copy\n",
    "df = copy.deepcopy(model_df)\n",
    "print(df.shape)\n",
    "df.head()"
   ]
  },
  {
   "cell_type": "code",
   "execution_count": 39,
   "metadata": {
    "tags": []
   },
   "outputs": [],
   "source": [
    "res = c.sequences.retrieve(id=1313227858623252)"
   ]
  },
  {
   "cell_type": "code",
   "execution_count": 40,
   "metadata": {
    "tags": []
   },
   "outputs": [],
   "source": [
    "column_external_ids = [ r['externalId'] for r in c.sequences.retrieve(id=1313227858623252).columns]"
   ]
  },
  {
   "cell_type": "code",
   "execution_count": 44,
   "metadata": {
    "tags": []
   },
   "outputs": [
    {
     "data": {
      "text/plain": [
       "['Depth(m)', 'ROP(1 m)', 'prediction']"
      ]
     },
     "execution_count": 44,
     "metadata": {},
     "output_type": "execute_result"
    }
   ],
   "source": [
    "column_external_ids"
   ]
  },
  {
   "cell_type": "code",
   "execution_count": 41,
   "metadata": {
    "tags": []
   },
   "outputs": [
    {
     "data": {
      "text/html": [
       "<div>\n",
       "<style scoped>\n",
       "    .dataframe tbody tr th:only-of-type {\n",
       "        vertical-align: middle;\n",
       "    }\n",
       "\n",
       "    .dataframe tbody tr th {\n",
       "        vertical-align: top;\n",
       "    }\n",
       "\n",
       "    .dataframe thead th {\n",
       "        text-align: right;\n",
       "    }\n",
       "</style>\n",
       "<table border=\"1\" class=\"dataframe\">\n",
       "  <thead>\n",
       "    <tr style=\"text-align: right;\">\n",
       "      <th></th>\n",
       "      <th>value</th>\n",
       "    </tr>\n",
       "  </thead>\n",
       "  <tbody>\n",
       "    <tr>\n",
       "      <th>id</th>\n",
       "      <td>1313227858623252</td>\n",
       "    </tr>\n",
       "    <tr>\n",
       "      <th>name</th>\n",
       "      <td>well5832_sequence_model</td>\n",
       "    </tr>\n",
       "    <tr>\n",
       "      <th>external_id</th>\n",
       "      <td>well5832_sequence_model</td>\n",
       "    </tr>\n",
       "    <tr>\n",
       "      <th>columns</th>\n",
       "      <td>[{'externalId': 'Depth(m)', 'description': 'so...</td>\n",
       "    </tr>\n",
       "    <tr>\n",
       "      <th>created_time</th>\n",
       "      <td>1676913911960</td>\n",
       "    </tr>\n",
       "    <tr>\n",
       "      <th>last_updated_time</th>\n",
       "      <td>1676913911960</td>\n",
       "    </tr>\n",
       "    <tr>\n",
       "      <th>data_set_id</th>\n",
       "      <td>7121227008062499</td>\n",
       "    </tr>\n",
       "  </tbody>\n",
       "</table>\n",
       "</div>"
      ],
      "text/plain": [
       "<cognite.client.data_classes.sequences.Sequence at 0x152551d00>"
      ]
     },
     "execution_count": 41,
     "metadata": {},
     "output_type": "execute_result"
    }
   ],
   "source": [
    "res"
   ]
  },
  {
   "cell_type": "code",
   "execution_count": 42,
   "metadata": {
    "tags": []
   },
   "outputs": [
    {
     "data": {
      "text/html": [
       "<div>\n",
       "<style scoped>\n",
       "    .dataframe tbody tr th:only-of-type {\n",
       "        vertical-align: middle;\n",
       "    }\n",
       "\n",
       "    .dataframe tbody tr th {\n",
       "        vertical-align: top;\n",
       "    }\n",
       "\n",
       "    .dataframe thead th {\n",
       "        text-align: right;\n",
       "    }\n",
       "</style>\n",
       "<table border=\"1\" class=\"dataframe\">\n",
       "  <thead>\n",
       "    <tr style=\"text-align: right;\">\n",
       "      <th></th>\n",
       "      <th>Depth(m)</th>\n",
       "      <th>ROP(1 m)</th>\n",
       "      <th>prediction</th>\n",
       "    </tr>\n",
       "  </thead>\n",
       "  <tbody>\n",
       "    <tr>\n",
       "      <th>1</th>\n",
       "      <td>25.96</td>\n",
       "      <td>17.31</td>\n",
       "      <td>65.9638</td>\n",
       "    </tr>\n",
       "    <tr>\n",
       "      <th>2</th>\n",
       "      <td>26.27</td>\n",
       "      <td>18.63</td>\n",
       "      <td>65.9638</td>\n",
       "    </tr>\n",
       "    <tr>\n",
       "      <th>3</th>\n",
       "      <td>26.59</td>\n",
       "      <td>5.66</td>\n",
       "      <td>116.6667</td>\n",
       "    </tr>\n",
       "    <tr>\n",
       "      <th>4</th>\n",
       "      <td>26.90</td>\n",
       "      <td>11.67</td>\n",
       "      <td>138.3851</td>\n",
       "    </tr>\n",
       "    <tr>\n",
       "      <th>5</th>\n",
       "      <td>27.24</td>\n",
       "      <td>120.20</td>\n",
       "      <td>129.5890</td>\n",
       "    </tr>\n",
       "    <tr>\n",
       "      <th>...</th>\n",
       "      <td>...</td>\n",
       "      <td>...</td>\n",
       "      <td>...</td>\n",
       "    </tr>\n",
       "    <tr>\n",
       "      <th>7307</th>\n",
       "      <td>2295.71</td>\n",
       "      <td>3.29</td>\n",
       "      <td>3.5837</td>\n",
       "    </tr>\n",
       "    <tr>\n",
       "      <th>7308</th>\n",
       "      <td>2296.01</td>\n",
       "      <td>4.12</td>\n",
       "      <td>3.9735</td>\n",
       "    </tr>\n",
       "    <tr>\n",
       "      <th>7309</th>\n",
       "      <td>2296.32</td>\n",
       "      <td>3.85</td>\n",
       "      <td>3.8493</td>\n",
       "    </tr>\n",
       "    <tr>\n",
       "      <th>7310</th>\n",
       "      <td>2296.63</td>\n",
       "      <td>4.49</td>\n",
       "      <td>4.2334</td>\n",
       "    </tr>\n",
       "    <tr>\n",
       "      <th>7311</th>\n",
       "      <td>2296.94</td>\n",
       "      <td>3.95</td>\n",
       "      <td>3.9619</td>\n",
       "    </tr>\n",
       "  </tbody>\n",
       "</table>\n",
       "<p>7311 rows × 3 columns</p>\n",
       "</div>"
      ],
      "text/plain": [
       "      Depth(m)  ROP(1 m)  prediction\n",
       "1        25.96     17.31     65.9638\n",
       "2        26.27     18.63     65.9638\n",
       "3        26.59      5.66    116.6667\n",
       "4        26.90     11.67    138.3851\n",
       "5        27.24    120.20    129.5890\n",
       "...        ...       ...         ...\n",
       "7307   2295.71      3.29      3.5837\n",
       "7308   2296.01      4.12      3.9735\n",
       "7309   2296.32      3.85      3.8493\n",
       "7310   2296.63      4.49      4.2334\n",
       "7311   2296.94      3.95      3.9619\n",
       "\n",
       "[7311 rows x 3 columns]"
      ]
     },
     "execution_count": 42,
     "metadata": {},
     "output_type": "execute_result"
    }
   ],
   "source": [
    "df"
   ]
  },
  {
   "cell_type": "code",
   "execution_count": 43,
   "metadata": {
    "tags": []
   },
   "outputs": [],
   "source": [
    "\n",
    "    \n",
    "dataList = [] #empty list\n",
    "for index, row in df.iterrows():\n",
    "    temp_row=[]\n",
    "    for col in column_external_ids:\n",
    "        temp_row.append(row[col])\n",
    "    dataList.append((index+1, temp_row))\n",
    "    "
   ]
  },
  {
   "cell_type": "code",
   "execution_count": 45,
   "metadata": {
    "tags": []
   },
   "outputs": [],
   "source": [
    "c.sequences.data.insert(column_external_ids=column_external_ids, rows=dataList, id=1313227858623252)"
   ]
  },
  {
   "cell_type": "code",
   "execution_count": 52,
   "metadata": {
    "tags": []
   },
   "outputs": [],
   "source": [
    "data_plot = c.sequences.data.retrieve_dataframe(external_id=\"well5832_sequence_model\",start=0,end=-1)"
   ]
  },
  {
   "cell_type": "code",
   "execution_count": 57,
   "metadata": {
    "tags": []
   },
   "outputs": [
    {
     "data": {
      "image/png": "[encoded data removed]",
      "text/plain": [
       "<Figure size 1500x2500 with 1 Axes>"
      ]
     },
     "metadata": {},
     "output_type": "display_data"
    }
   ],
   "source": [
    "fig,ax=plt.subplots(figsize=(15,25))\n",
    "ax.plot(data_plot['ROP(1 m)'].values.reshape(-1,1),data_plot['Depth(m)'].values.reshape(-1,1),'r',label='ROP')\n",
    "ax.scatter(data_plot['prediction'].values.reshape(-1,1),data_plot['Depth(m)'].values.reshape(-1,1),label='predicted ROP')\n",
    "ay=plt.gca()\n",
    "ay.set_ylim(ay.get_ylim()[::-1])\n",
    "plt.ylabel('Depth (ft)')\n",
    "plt.xlabel('Rate of penetration (m/hr)')\n",
    "plt.title('Rate of penetration prediction');\n",
    "plt.legend(loc=\"best\")\n",
    "depth=[depth for depth in range(200,2400,200) ]\n",
    "for i in range(len(depth)):\n",
    "    plt.axhline(depth[i],color='black' )"
   ]
  },
  {
   "cell_type": "code",
   "execution_count": null,
   "metadata": {},
   "outputs": [],
   "source": []
  }
 ],
 "metadata": {
  "kernelspec": {
   "display_name": "Python 3 (ipykernel)",
   "language": "python",
   "name": "python3"
  },
  "language_info": {
   "codemirror_mode": {
    "name": "ipython",
    "version": 3
   },
   "file_extension": ".py",
   "mimetype": "text/x-python",
   "name": "python",
   "nbconvert_exporter": "python",
   "pygments_lexer": "ipython3",
   "version": "3.9.13"
  },
  "vscode": {
   "interpreter": {
    "hash": "64a4e4718b94ae31b6369a7ad659789e3910496f6b3d519d3778c0d07a51df37"
   }
  }
 },
 "nbformat": 4,
 "nbformat_minor": 4
}
